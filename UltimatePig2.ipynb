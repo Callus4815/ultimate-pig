{
 "cells": [
  {
   "cell_type": "code",
   "execution_count": 1,
   "metadata": {
    "collapsed": true
   },
   "outputs": [],
   "source": [
    "import random\n",
    "import matplotlib.pyplot as plt\n",
    "import statistics as st"
   ]
  },
  {
   "cell_type": "code",
   "execution_count": 4,
   "metadata": {
    "collapsed": false
   },
   "outputs": [],
   "source": [
    "%matplotlib inline"
   ]
  },
  {
   "cell_type": "code",
   "execution_count": 5,
   "metadata": {
    "collapsed": true
   },
   "outputs": [],
   "source": [
    "class Game:\n",
    "    def __init__(self, player):\n",
    "        self.player=player\n",
    "        \n",
    "    def player_turn(self):\n",
    "        turn = 0\n",
    "        score_turn =0\n",
    "        while turn < 7:\n",
    "            append(player.play())\n",
    "            turns +=1\n",
    "            score_this_round = sum(score_turn)\n",
    "        return score_this_round\n",
    "    \n",
    "class Player:\n",
    "    def __init__(self, rolls=0):\n",
    "         self.rolls= 0\n",
    "\n",
    "            \n",
    "    def play(self):\n",
    "        score = 0\n",
    "        rolls = self.rolls\n",
    "        while rolls > 1:\n",
    "            rolling = self.die()\n",
    "            if rolls != 1:\n",
    "                score += roll\n",
    "                rolls += 1\n",
    "            else:\n",
    "                score += 0\n",
    "                rolls += 1\n",
    "        return score\n",
    "    \n",
    "    def die():\n",
    "        return random.randint(1,6)"
   ]
  },
  {
   "cell_type": "code",
   "execution_count": null,
   "metadata": {
    "collapsed": true
   },
   "outputs": [],
   "source": []
  }
 ],
 "metadata": {
  "kernelspec": {
   "display_name": "Python 3",
   "language": "python",
   "name": "python3"
  },
  "language_info": {
   "codemirror_mode": {
    "name": "ipython",
    "version": 3
   },
   "file_extension": ".py",
   "mimetype": "text/x-python",
   "name": "python",
   "nbconvert_exporter": "python",
   "pygments_lexer": "ipython3",
   "version": "3.4.3"
  }
 },
 "nbformat": 4,
 "nbformat_minor": 0
}
